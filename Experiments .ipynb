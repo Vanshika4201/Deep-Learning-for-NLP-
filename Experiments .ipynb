{
  "cells": [
    {
      "cell_type": "code",
      "execution_count": 1,
      "id": "85c15f62",
      "metadata": {
        "colab": {
          "base_uri": "https://localhost:8080/"
        },
        "id": "85c15f62",
        "outputId": "4553efe4-6b4d-41e5-a232-873cb763facd"
      },
      "outputs": [
        {
          "output_type": "stream",
          "name": "stdout",
          "text": [
            "Requirement already satisfied: torchmetrics in /usr/local/lib/python3.10/dist-packages (1.3.2)\n",
            "Requirement already satisfied: numpy>1.20.0 in /usr/local/lib/python3.10/dist-packages (from torchmetrics) (1.25.2)\n",
            "Requirement already satisfied: packaging>17.1 in /usr/local/lib/python3.10/dist-packages (from torchmetrics) (24.0)\n",
            "Requirement already satisfied: torch>=1.10.0 in /usr/local/lib/python3.10/dist-packages (from torchmetrics) (2.2.1+cu121)\n",
            "Requirement already satisfied: lightning-utilities>=0.8.0 in /usr/local/lib/python3.10/dist-packages (from torchmetrics) (0.11.2)\n",
            "Requirement already satisfied: setuptools in /usr/local/lib/python3.10/dist-packages (from lightning-utilities>=0.8.0->torchmetrics) (67.7.2)\n",
            "Requirement already satisfied: typing-extensions in /usr/local/lib/python3.10/dist-packages (from lightning-utilities>=0.8.0->torchmetrics) (4.11.0)\n",
            "Requirement already satisfied: filelock in /usr/local/lib/python3.10/dist-packages (from torch>=1.10.0->torchmetrics) (3.13.4)\n",
            "Requirement already satisfied: sympy in /usr/local/lib/python3.10/dist-packages (from torch>=1.10.0->torchmetrics) (1.12)\n",
            "Requirement already satisfied: networkx in /usr/local/lib/python3.10/dist-packages (from torch>=1.10.0->torchmetrics) (3.3)\n",
            "Requirement already satisfied: jinja2 in /usr/local/lib/python3.10/dist-packages (from torch>=1.10.0->torchmetrics) (3.1.3)\n",
            "Requirement already satisfied: fsspec in /usr/local/lib/python3.10/dist-packages (from torch>=1.10.0->torchmetrics) (2023.6.0)\n",
            "Requirement already satisfied: nvidia-cuda-nvrtc-cu12==12.1.105 in /usr/local/lib/python3.10/dist-packages (from torch>=1.10.0->torchmetrics) (12.1.105)\n",
            "Requirement already satisfied: nvidia-cuda-runtime-cu12==12.1.105 in /usr/local/lib/python3.10/dist-packages (from torch>=1.10.0->torchmetrics) (12.1.105)\n",
            "Requirement already satisfied: nvidia-cuda-cupti-cu12==12.1.105 in /usr/local/lib/python3.10/dist-packages (from torch>=1.10.0->torchmetrics) (12.1.105)\n",
            "Requirement already satisfied: nvidia-cudnn-cu12==8.9.2.26 in /usr/local/lib/python3.10/dist-packages (from torch>=1.10.0->torchmetrics) (8.9.2.26)\n",
            "Requirement already satisfied: nvidia-cublas-cu12==12.1.3.1 in /usr/local/lib/python3.10/dist-packages (from torch>=1.10.0->torchmetrics) (12.1.3.1)\n",
            "Requirement already satisfied: nvidia-cufft-cu12==11.0.2.54 in /usr/local/lib/python3.10/dist-packages (from torch>=1.10.0->torchmetrics) (11.0.2.54)\n",
            "Requirement already satisfied: nvidia-curand-cu12==10.3.2.106 in /usr/local/lib/python3.10/dist-packages (from torch>=1.10.0->torchmetrics) (10.3.2.106)\n",
            "Requirement already satisfied: nvidia-cusolver-cu12==11.4.5.107 in /usr/local/lib/python3.10/dist-packages (from torch>=1.10.0->torchmetrics) (11.4.5.107)\n",
            "Requirement already satisfied: nvidia-cusparse-cu12==12.1.0.106 in /usr/local/lib/python3.10/dist-packages (from torch>=1.10.0->torchmetrics) (12.1.0.106)\n",
            "Requirement already satisfied: nvidia-nccl-cu12==2.19.3 in /usr/local/lib/python3.10/dist-packages (from torch>=1.10.0->torchmetrics) (2.19.3)\n",
            "Requirement already satisfied: nvidia-nvtx-cu12==12.1.105 in /usr/local/lib/python3.10/dist-packages (from torch>=1.10.0->torchmetrics) (12.1.105)\n",
            "Requirement already satisfied: triton==2.2.0 in /usr/local/lib/python3.10/dist-packages (from torch>=1.10.0->torchmetrics) (2.2.0)\n",
            "Requirement already satisfied: nvidia-nvjitlink-cu12 in /usr/local/lib/python3.10/dist-packages (from nvidia-cusolver-cu12==11.4.5.107->torch>=1.10.0->torchmetrics) (12.4.127)\n",
            "Requirement already satisfied: MarkupSafe>=2.0 in /usr/local/lib/python3.10/dist-packages (from jinja2->torch>=1.10.0->torchmetrics) (2.1.5)\n",
            "Requirement already satisfied: mpmath>=0.19 in /usr/local/lib/python3.10/dist-packages (from sympy->torch>=1.10.0->torchmetrics) (1.3.0)\n"
          ]
        }
      ],
      "source": [
        "!pip install torchmetrics"
      ]
    },
    {
      "cell_type": "code",
      "source": [
        "import torch\n",
        "from torch.utils.data import TensorDataset, DataLoader, RandomSampler, SequentialSampler\n",
        "from transformers import BertTokenizer, BertForSequenceClassification\n",
        "from transformers import GPT2Tokenizer, GPT2ForSequenceClassification, GPT2Config\n",
        "from sklearn.model_selection import train_test_split\n",
        "\n",
        "import pandas as pd\n",
        "import numpy as np\n",
        "\n",
        "from tabulate import tabulate\n",
        "from tqdm import trange\n",
        "import random\n",
        "from torchmetrics.classification import Recall, Accuracy, AUROC, Precision"
      ],
      "metadata": {
        "id": "X0F_Ydxvi2fe"
      },
      "id": "X0F_Ydxvi2fe",
      "execution_count": 2,
      "outputs": []
    },
    {
      "cell_type": "code",
      "source": [
        "FILL = \"FILL\""
      ],
      "metadata": {
        "id": "9GPs9grPgTzU"
      },
      "id": "9GPs9grPgTzU",
      "execution_count": 3,
      "outputs": []
    },
    {
      "cell_type": "code",
      "execution_count": 4,
      "id": "3678adfa",
      "metadata": {
        "colab": {
          "base_uri": "https://localhost:8080/"
        },
        "id": "3678adfa",
        "outputId": "74f5c968-284e-48ec-c54b-b7f3e1aca481"
      },
      "outputs": [
        {
          "output_type": "stream",
          "name": "stdout",
          "text": [
            "--2024-04-30 03:06:06--  https://archive.ics.uci.edu/ml/machine-learning-databases/00228/smsspamcollection.zip\n",
            "Resolving archive.ics.uci.edu (archive.ics.uci.edu)... 128.195.10.252\n",
            "Connecting to archive.ics.uci.edu (archive.ics.uci.edu)|128.195.10.252|:443... connected.\n",
            "HTTP request sent, awaiting response... 200 OK\n",
            "Length: unspecified\n",
            "Saving to: ‘smsspamcollection.zip.4’\n",
            "\n",
            "smsspamcollection.z     [   <=>              ] 198.65K   295KB/s    in 0.7s    \n",
            "\n",
            "2024-04-30 03:06:07 (295 KB/s) - ‘smsspamcollection.zip.4’ saved [203415]\n",
            "\n",
            "Archive:  smsspamcollection.zip\n",
            "  inflating: SMSSpamCollection       \n",
            "  inflating: readme                  \n"
          ]
        }
      ],
      "source": [
        "!wget 'https://archive.ics.uci.edu/ml/machine-learning-databases/00228/smsspamcollection.zip'\n",
        "!unzip -o smsspamcollection.zip"
      ]
    },
    {
      "cell_type": "code",
      "execution_count": 5,
      "id": "d892553d",
      "metadata": {
        "colab": {
          "base_uri": "https://localhost:8080/"
        },
        "id": "d892553d",
        "outputId": "1d7159b2-778f-434e-d566-bbcf6dccc2f5"
      },
      "outputs": [
        {
          "output_type": "stream",
          "name": "stdout",
          "text": [
            "Archive:  smsspamcollection.zip\n",
            "  inflating: SMSSpamCollection       \n",
            "  inflating: readme                  \n"
          ]
        }
      ],
      "source": [
        "!unzip -o smsspamcollection.zip"
      ]
    },
    {
      "cell_type": "code",
      "execution_count": 6,
      "id": "dd3d5e84",
      "metadata": {
        "colab": {
          "base_uri": "https://localhost:8080/"
        },
        "id": "dd3d5e84",
        "outputId": "d95fb6aa-f0ba-4aa3-e9b8-d9cf04720fc8"
      },
      "outputs": [
        {
          "output_type": "stream",
          "name": "stdout",
          "text": [
            "ham\tGo until jurong point, crazy.. Available only in bugis n great world la e buffet... Cine there got amore wat...\n",
            "ham\tOk lar... Joking wif u oni...\n",
            "spam\tFree entry in 2 a wkly comp to win FA Cup final tkts 21st May 2005. Text FA to 87121 to receive entry question(std txt rate)T&C's apply 08452810075over18's\n",
            "ham\tU dun say so early hor... U c already then say...\n",
            "ham\tNah I don't think he goes to usf, he lives around here though\n",
            "spam\tFreeMsg Hey there darling it's been 3 week's now and no word back! I'd like some fun you up for it still? Tb ok! XxX std chgs to send, £1.50 to rcv\n",
            "ham\tEven my brother is not like to speak with me. They treat me like aids patent.\n",
            "ham\tAs per your request 'Melle Melle (Oru Minnaminunginte Nurungu Vettam)' has been set as your callertune for all Callers. Press *9 to copy your friends Callertune\n",
            "spam\tWINNER!! As a valued network customer you have been selected to receivea £900 prize reward! To claim call 09061701461. Claim code KL341. Valid 12 hours only.\n",
            "spam\tHad your mobile 11 months or more? U R entitled to Update to the latest colour mobiles with camera for Free! Call The Mobile Update Co FREE on 08002986030\n"
          ]
        }
      ],
      "source": [
        "!head -10 SMSSpamCollection"
      ]
    },
    {
      "cell_type": "code",
      "execution_count": 7,
      "id": "9b12150d",
      "metadata": {
        "colab": {
          "base_uri": "https://localhost:8080/"
        },
        "id": "9b12150d",
        "outputId": "ab814362-ebd4-44cf-a014-a2554abee19e"
      },
      "outputs": [
        {
          "output_type": "stream",
          "name": "stdout",
          "text": [
            "--2024-04-30 03:06:07--  https://archive.ics.uci.edu/ml/machine-learning-databases/00228/smsspamcollection.zip\n",
            "Resolving archive.ics.uci.edu (archive.ics.uci.edu)... 128.195.10.252\n",
            "Connecting to archive.ics.uci.edu (archive.ics.uci.edu)|128.195.10.252|:443... connected.\n",
            "HTTP request sent, awaiting response... 200 OK\n",
            "Length: unspecified\n",
            "Saving to: ‘smsspamcollection.zip.5’\n",
            "\n",
            "smsspamcollection.z     [      <=>           ] 198.65K   139KB/s    in 1.4s    \n",
            "\n",
            "2024-04-30 03:06:09 (139 KB/s) - ‘smsspamcollection.zip.5’ saved [203415]\n",
            "\n",
            "Archive:  smsspamcollection.zip\n",
            "  inflating: SMSSpamCollection       \n",
            "  inflating: readme                  \n"
          ]
        }
      ],
      "source": [
        "!wget 'https://archive.ics.uci.edu/ml/machine-learning-databases/00228/smsspamcollection.zip'\n",
        "!unzip -o smsspamcollection.zip"
      ]
    },
    {
      "cell_type": "code",
      "execution_count": 8,
      "id": "98a736a1",
      "metadata": {
        "colab": {
          "base_uri": "https://localhost:8080/",
          "height": 206
        },
        "id": "98a736a1",
        "outputId": "ce396a38-e269-4a04-a401-c1f616b4bcf5"
      },
      "outputs": [
        {
          "output_type": "execute_result",
          "data": {
            "text/plain": [
              "   label                                               text\n",
              "0      0  Go until jurong point, crazy.. Available only ...\n",
              "1      0                    Ok lar... Joking wif u oni...\\n\n",
              "2      1  Free entry in 2 a wkly comp to win FA Cup fina...\n",
              "3      0  U dun say so early hor... U c already then say...\n",
              "4      0  Nah I don't think he goes to usf, he lives aro..."
            ],
            "text/html": [
              "\n",
              "  <div id=\"df-5df9c596-c463-4dec-9838-45a7d76fa706\" class=\"colab-df-container\">\n",
              "    <div>\n",
              "<style scoped>\n",
              "    .dataframe tbody tr th:only-of-type {\n",
              "        vertical-align: middle;\n",
              "    }\n",
              "\n",
              "    .dataframe tbody tr th {\n",
              "        vertical-align: top;\n",
              "    }\n",
              "\n",
              "    .dataframe thead th {\n",
              "        text-align: right;\n",
              "    }\n",
              "</style>\n",
              "<table border=\"1\" class=\"dataframe\">\n",
              "  <thead>\n",
              "    <tr style=\"text-align: right;\">\n",
              "      <th></th>\n",
              "      <th>label</th>\n",
              "      <th>text</th>\n",
              "    </tr>\n",
              "  </thead>\n",
              "  <tbody>\n",
              "    <tr>\n",
              "      <th>0</th>\n",
              "      <td>0</td>\n",
              "      <td>Go until jurong point, crazy.. Available only ...</td>\n",
              "    </tr>\n",
              "    <tr>\n",
              "      <th>1</th>\n",
              "      <td>0</td>\n",
              "      <td>Ok lar... Joking wif u oni...\\n</td>\n",
              "    </tr>\n",
              "    <tr>\n",
              "      <th>2</th>\n",
              "      <td>1</td>\n",
              "      <td>Free entry in 2 a wkly comp to win FA Cup fina...</td>\n",
              "    </tr>\n",
              "    <tr>\n",
              "      <th>3</th>\n",
              "      <td>0</td>\n",
              "      <td>U dun say so early hor... U c already then say...</td>\n",
              "    </tr>\n",
              "    <tr>\n",
              "      <th>4</th>\n",
              "      <td>0</td>\n",
              "      <td>Nah I don't think he goes to usf, he lives aro...</td>\n",
              "    </tr>\n",
              "  </tbody>\n",
              "</table>\n",
              "</div>\n",
              "    <div class=\"colab-df-buttons\">\n",
              "\n",
              "  <div class=\"colab-df-container\">\n",
              "    <button class=\"colab-df-convert\" onclick=\"convertToInteractive('df-5df9c596-c463-4dec-9838-45a7d76fa706')\"\n",
              "            title=\"Convert this dataframe to an interactive table.\"\n",
              "            style=\"display:none;\">\n",
              "\n",
              "  <svg xmlns=\"http://www.w3.org/2000/svg\" height=\"24px\" viewBox=\"0 -960 960 960\">\n",
              "    <path d=\"M120-120v-720h720v720H120Zm60-500h600v-160H180v160Zm220 220h160v-160H400v160Zm0 220h160v-160H400v160ZM180-400h160v-160H180v160Zm440 0h160v-160H620v160ZM180-180h160v-160H180v160Zm440 0h160v-160H620v160Z\"/>\n",
              "  </svg>\n",
              "    </button>\n",
              "\n",
              "  <style>\n",
              "    .colab-df-container {\n",
              "      display:flex;\n",
              "      gap: 12px;\n",
              "    }\n",
              "\n",
              "    .colab-df-convert {\n",
              "      background-color: #E8F0FE;\n",
              "      border: none;\n",
              "      border-radius: 50%;\n",
              "      cursor: pointer;\n",
              "      display: none;\n",
              "      fill: #1967D2;\n",
              "      height: 32px;\n",
              "      padding: 0 0 0 0;\n",
              "      width: 32px;\n",
              "    }\n",
              "\n",
              "    .colab-df-convert:hover {\n",
              "      background-color: #E2EBFA;\n",
              "      box-shadow: 0px 1px 2px rgba(60, 64, 67, 0.3), 0px 1px 3px 1px rgba(60, 64, 67, 0.15);\n",
              "      fill: #174EA6;\n",
              "    }\n",
              "\n",
              "    .colab-df-buttons div {\n",
              "      margin-bottom: 4px;\n",
              "    }\n",
              "\n",
              "    [theme=dark] .colab-df-convert {\n",
              "      background-color: #3B4455;\n",
              "      fill: #D2E3FC;\n",
              "    }\n",
              "\n",
              "    [theme=dark] .colab-df-convert:hover {\n",
              "      background-color: #434B5C;\n",
              "      box-shadow: 0px 1px 3px 1px rgba(0, 0, 0, 0.15);\n",
              "      filter: drop-shadow(0px 1px 2px rgba(0, 0, 0, 0.3));\n",
              "      fill: #FFFFFF;\n",
              "    }\n",
              "  </style>\n",
              "\n",
              "    <script>\n",
              "      const buttonEl =\n",
              "        document.querySelector('#df-5df9c596-c463-4dec-9838-45a7d76fa706 button.colab-df-convert');\n",
              "      buttonEl.style.display =\n",
              "        google.colab.kernel.accessAllowed ? 'block' : 'none';\n",
              "\n",
              "      async function convertToInteractive(key) {\n",
              "        const element = document.querySelector('#df-5df9c596-c463-4dec-9838-45a7d76fa706');\n",
              "        const dataTable =\n",
              "          await google.colab.kernel.invokeFunction('convertToInteractive',\n",
              "                                                    [key], {});\n",
              "        if (!dataTable) return;\n",
              "\n",
              "        const docLinkHtml = 'Like what you see? Visit the ' +\n",
              "          '<a target=\"_blank\" href=https://colab.research.google.com/notebooks/data_table.ipynb>data table notebook</a>'\n",
              "          + ' to learn more about interactive tables.';\n",
              "        element.innerHTML = '';\n",
              "        dataTable['output_type'] = 'display_data';\n",
              "        await google.colab.output.renderOutput(dataTable, element);\n",
              "        const docLink = document.createElement('div');\n",
              "        docLink.innerHTML = docLinkHtml;\n",
              "        element.appendChild(docLink);\n",
              "      }\n",
              "    </script>\n",
              "  </div>\n",
              "\n",
              "\n",
              "<div id=\"df-b8d05182-4707-4402-a119-79f2818c7122\">\n",
              "  <button class=\"colab-df-quickchart\" onclick=\"quickchart('df-b8d05182-4707-4402-a119-79f2818c7122')\"\n",
              "            title=\"Suggest charts\"\n",
              "            style=\"display:none;\">\n",
              "\n",
              "<svg xmlns=\"http://www.w3.org/2000/svg\" height=\"24px\"viewBox=\"0 0 24 24\"\n",
              "     width=\"24px\">\n",
              "    <g>\n",
              "        <path d=\"M19 3H5c-1.1 0-2 .9-2 2v14c0 1.1.9 2 2 2h14c1.1 0 2-.9 2-2V5c0-1.1-.9-2-2-2zM9 17H7v-7h2v7zm4 0h-2V7h2v10zm4 0h-2v-4h2v4z\"/>\n",
              "    </g>\n",
              "</svg>\n",
              "  </button>\n",
              "\n",
              "<style>\n",
              "  .colab-df-quickchart {\n",
              "      --bg-color: #E8F0FE;\n",
              "      --fill-color: #1967D2;\n",
              "      --hover-bg-color: #E2EBFA;\n",
              "      --hover-fill-color: #174EA6;\n",
              "      --disabled-fill-color: #AAA;\n",
              "      --disabled-bg-color: #DDD;\n",
              "  }\n",
              "\n",
              "  [theme=dark] .colab-df-quickchart {\n",
              "      --bg-color: #3B4455;\n",
              "      --fill-color: #D2E3FC;\n",
              "      --hover-bg-color: #434B5C;\n",
              "      --hover-fill-color: #FFFFFF;\n",
              "      --disabled-bg-color: #3B4455;\n",
              "      --disabled-fill-color: #666;\n",
              "  }\n",
              "\n",
              "  .colab-df-quickchart {\n",
              "    background-color: var(--bg-color);\n",
              "    border: none;\n",
              "    border-radius: 50%;\n",
              "    cursor: pointer;\n",
              "    display: none;\n",
              "    fill: var(--fill-color);\n",
              "    height: 32px;\n",
              "    padding: 0;\n",
              "    width: 32px;\n",
              "  }\n",
              "\n",
              "  .colab-df-quickchart:hover {\n",
              "    background-color: var(--hover-bg-color);\n",
              "    box-shadow: 0 1px 2px rgba(60, 64, 67, 0.3), 0 1px 3px 1px rgba(60, 64, 67, 0.15);\n",
              "    fill: var(--button-hover-fill-color);\n",
              "  }\n",
              "\n",
              "  .colab-df-quickchart-complete:disabled,\n",
              "  .colab-df-quickchart-complete:disabled:hover {\n",
              "    background-color: var(--disabled-bg-color);\n",
              "    fill: var(--disabled-fill-color);\n",
              "    box-shadow: none;\n",
              "  }\n",
              "\n",
              "  .colab-df-spinner {\n",
              "    border: 2px solid var(--fill-color);\n",
              "    border-color: transparent;\n",
              "    border-bottom-color: var(--fill-color);\n",
              "    animation:\n",
              "      spin 1s steps(1) infinite;\n",
              "  }\n",
              "\n",
              "  @keyframes spin {\n",
              "    0% {\n",
              "      border-color: transparent;\n",
              "      border-bottom-color: var(--fill-color);\n",
              "      border-left-color: var(--fill-color);\n",
              "    }\n",
              "    20% {\n",
              "      border-color: transparent;\n",
              "      border-left-color: var(--fill-color);\n",
              "      border-top-color: var(--fill-color);\n",
              "    }\n",
              "    30% {\n",
              "      border-color: transparent;\n",
              "      border-left-color: var(--fill-color);\n",
              "      border-top-color: var(--fill-color);\n",
              "      border-right-color: var(--fill-color);\n",
              "    }\n",
              "    40% {\n",
              "      border-color: transparent;\n",
              "      border-right-color: var(--fill-color);\n",
              "      border-top-color: var(--fill-color);\n",
              "    }\n",
              "    60% {\n",
              "      border-color: transparent;\n",
              "      border-right-color: var(--fill-color);\n",
              "    }\n",
              "    80% {\n",
              "      border-color: transparent;\n",
              "      border-right-color: var(--fill-color);\n",
              "      border-bottom-color: var(--fill-color);\n",
              "    }\n",
              "    90% {\n",
              "      border-color: transparent;\n",
              "      border-bottom-color: var(--fill-color);\n",
              "    }\n",
              "  }\n",
              "</style>\n",
              "\n",
              "  <script>\n",
              "    async function quickchart(key) {\n",
              "      const quickchartButtonEl =\n",
              "        document.querySelector('#' + key + ' button');\n",
              "      quickchartButtonEl.disabled = true;  // To prevent multiple clicks.\n",
              "      quickchartButtonEl.classList.add('colab-df-spinner');\n",
              "      try {\n",
              "        const charts = await google.colab.kernel.invokeFunction(\n",
              "            'suggestCharts', [key], {});\n",
              "      } catch (error) {\n",
              "        console.error('Error during call to suggestCharts:', error);\n",
              "      }\n",
              "      quickchartButtonEl.classList.remove('colab-df-spinner');\n",
              "      quickchartButtonEl.classList.add('colab-df-quickchart-complete');\n",
              "    }\n",
              "    (() => {\n",
              "      let quickchartButtonEl =\n",
              "        document.querySelector('#df-b8d05182-4707-4402-a119-79f2818c7122 button');\n",
              "      quickchartButtonEl.style.display =\n",
              "        google.colab.kernel.accessAllowed ? 'block' : 'none';\n",
              "    })();\n",
              "  </script>\n",
              "</div>\n",
              "    </div>\n",
              "  </div>\n"
            ],
            "application/vnd.google.colaboratory.intrinsic+json": {
              "type": "dataframe",
              "variable_name": "df",
              "summary": "{\n  \"name\": \"df\",\n  \"rows\": 5574,\n  \"fields\": [\n    {\n      \"column\": \"label\",\n      \"properties\": {\n        \"dtype\": \"number\",\n        \"std\": 0,\n        \"min\": 0,\n        \"max\": 1,\n        \"num_unique_values\": 2,\n        \"samples\": [\n          1,\n          0\n        ],\n        \"semantic_type\": \"\",\n        \"description\": \"\"\n      }\n    },\n    {\n      \"column\": \"text\",\n      \"properties\": {\n        \"dtype\": \"string\",\n        \"num_unique_values\": 5171,\n        \"samples\": [\n          \"K, makes sense, btw carlos is being difficult so you guys are gonna smoke while I go pick up the second batch and get gas\\n\",\n          \"URGENT! Your mobile No *********** WON a \\u00a32,000 Bonus Caller Prize on 02/06/03! This is the 2nd attempt to reach YOU! Call 09066362220 ASAP! BOX97N7QP, 150ppm\\n\"\n        ],\n        \"semantic_type\": \"\",\n        \"description\": \"\"\n      }\n    }\n  ]\n}"
            }
          },
          "metadata": {},
          "execution_count": 8
        }
      ],
      "source": [
        "file_path = 'SMSSpamCollection'\n",
        "df = pd.DataFrame({'label':int(), 'text':str()}, index = [])\n",
        "with open(file_path) as f:\n",
        "    for line in f.readlines():\n",
        "        split = line.split('\\t')\n",
        "        df = pd.concat([\n",
        "                df,\n",
        "                pd.DataFrame.from_dict({\n",
        "                    'label': [1 if split[0] == 'spam' else 0],\n",
        "                    'text': [split[1]]\n",
        "                })\n",
        "            ],\n",
        "            ignore_index=True\n",
        "        )\n",
        "df.head()"
      ]
    },
    {
      "cell_type": "code",
      "execution_count": 9,
      "id": "79a5cb02",
      "metadata": {
        "id": "79a5cb02"
      },
      "outputs": [],
      "source": [
        "text = df.text.values\n",
        "labels = df.label.values"
      ]
    },
    {
      "cell_type": "code",
      "execution_count": 10,
      "id": "dce193a4",
      "metadata": {
        "colab": {
          "base_uri": "https://localhost:8080/"
        },
        "id": "dce193a4",
        "outputId": "15db74a5-84d0-4a27-85cf-4c3c8611bde8"
      },
      "outputs": [
        {
          "output_type": "stream",
          "name": "stderr",
          "text": [
            "/usr/local/lib/python3.10/dist-packages/huggingface_hub/utils/_token.py:88: UserWarning: \n",
            "The secret `HF_TOKEN` does not exist in your Colab secrets.\n",
            "To authenticate with the Hugging Face Hub, create a token in your settings tab (https://huggingface.co/settings/tokens), set it as secret in your Google Colab and restart your session.\n",
            "You will be able to reuse this secret in all of your notebooks.\n",
            "Please note that authentication is recommended but still optional to access public models or datasets.\n",
            "  warnings.warn(\n"
          ]
        }
      ],
      "source": [
        "# Set to the GPT2Tokenizer and set lower case to True\n",
        "tokenizer = GPT2Tokenizer.from_pretrained('gpt2', add_prefix_space=True)\n",
        "tokenizer.pad_token = tokenizer.eos_token\n",
        "# Set the padding to 'left' or 'right'?\n",
        "# Remember we want to use the last token's embedding to represent the entire sentence\n",
        "tokenizer.padding_side = 'right'"
      ]
    },
    {
      "cell_type": "code",
      "execution_count": 11,
      "id": "c00a3e7e",
      "metadata": {
        "colab": {
          "base_uri": "https://localhost:8080/"
        },
        "id": "c00a3e7e",
        "outputId": "6f03dc2e-eb00-47bd-bdd0-9870b3d41404"
      },
      "outputs": [
        {
          "output_type": "stream",
          "name": "stdout",
          "text": [
            "We're all getting worried over here, derek and taylor have already assumed the worst\n",
            "\n",
            "╒══════════╤═════════════╕\n",
            "│ Tokens   │   Token IDs │\n",
            "╞══════════╪═════════════╡\n",
            "│ ĠWe      │         775 │\n",
            "├──────────┼─────────────┤\n",
            "│ 're      │         821 │\n",
            "├──────────┼─────────────┤\n",
            "│ Ġall     │         477 │\n",
            "├──────────┼─────────────┤\n",
            "│ Ġgetting │        1972 │\n",
            "├──────────┼─────────────┤\n",
            "│ Ġworried │        7960 │\n",
            "├──────────┼─────────────┤\n",
            "│ Ġover    │         625 │\n",
            "├──────────┼─────────────┤\n",
            "│ Ġhere    │         994 │\n",
            "├──────────┼─────────────┤\n",
            "│ ,        │          11 │\n",
            "├──────────┼─────────────┤\n",
            "│ Ġde      │         390 │\n",
            "├──────────┼─────────────┤\n",
            "│ rek      │       37818 │\n",
            "├──────────┼─────────────┤\n",
            "│ Ġand     │         290 │\n",
            "├──────────┼─────────────┤\n",
            "│ Ġt       │         256 │\n",
            "├──────────┼─────────────┤\n",
            "│ aylor    │        7167 │\n",
            "├──────────┼─────────────┤\n",
            "│ Ġhave    │         423 │\n",
            "├──────────┼─────────────┤\n",
            "│ Ġalready │        1541 │\n",
            "├──────────┼─────────────┤\n",
            "│ Ġassumed │        9672 │\n",
            "├──────────┼─────────────┤\n",
            "│ Ġthe     │         262 │\n",
            "├──────────┼─────────────┤\n",
            "│ Ġworst   │        5290 │\n",
            "├──────────┼─────────────┤\n",
            "│ Ċ        │         198 │\n",
            "╘══════════╧═════════════╛\n"
          ]
        }
      ],
      "source": [
        "def print_rand_sentence():\n",
        "    '''Displays the tokens and respective IDs of a random text sample'''\n",
        "    index = random.randint(0, len(text)-1)\n",
        "    print(text[index])\n",
        "    table = np.array([tokenizer.tokenize(text[index]),\n",
        "                    tokenizer.convert_tokens_to_ids(tokenizer.tokenize(text[index]))]).T\n",
        "    print(tabulate(table,\n",
        "                 headers = ['Tokens', 'Token IDs'],\n",
        "                 tablefmt = 'fancy_grid'))\n",
        "\n",
        "print_rand_sentence()"
      ]
    },
    {
      "cell_type": "code",
      "execution_count": 12,
      "id": "e85d0895",
      "metadata": {
        "id": "e85d0895"
      },
      "outputs": [],
      "source": [
        "token_id = []\n",
        "attention_masks = []\n",
        "\n",
        "def preprocessing(input_text, tokenizer):\n",
        "  '''\n",
        "  Returns <class transformers.tokenization_utils_base.BatchEncoding> with the following fields:\n",
        "    - input_ids: list of token ids\n",
        "    - token_type_ids: list of token type ids\n",
        "    - attention_mask: list of indices (0,1) specifying which tokens should considered by the model (return_attention_mask = True).\n",
        "  '''\n",
        "  # Use the tokenizer and the encode_plus methods to return the right data we'll need\n",
        "  # Set max_length = 32 and return_tokens = 'pt'\n",
        "  # Set other fields to the appropriate booleans needed\n",
        "  return tokenizer.encode_plus(input_text, add_special_tokens=True, max_length=32, truncation=True, padding=\"max_length\", return_attention_mask=True, return_tensors='pt')\n",
        "\n",
        "\n",
        "\n",
        "for sample in text:\n",
        "    encoding_dict = preprocessing(sample, tokenizer)\n",
        "    token_id.append(encoding_dict['input_ids'])\n",
        "    attention_masks.append(encoding_dict['attention_mask'])\n",
        "\n",
        "\n",
        "# Gather all the torch_id, attention masks, and labels\n",
        "token_id = torch.cat(token_id, dim=0)\n",
        "attention_masks = torch.cat(attention_masks, dim=0)\n",
        "labels = torch.tensor(labels, dtype=torch.long)"
      ]
    },
    {
      "cell_type": "code",
      "execution_count": 14,
      "id": "222e06a7",
      "metadata": {
        "colab": {
          "base_uri": "https://localhost:8080/"
        },
        "id": "222e06a7",
        "outputId": "223e2665-e1a0-4e62-c511-12dff3c243f9"
      },
      "outputs": [
        {
          "output_type": "stream",
          "name": "stdout",
          "text": [
            "Ġ ĠThe Ġtable 's Ġoccupied , ĠI 'm Ġwaiting Ġby Ġthe Ġtree Ċ <|endoftext|> <|endoftext|> <|endoftext|> <|endoftext|> <|endoftext|> <|endoftext|> <|endoftext|> <|endoftext|> <|endoftext|> <|endoftext|> <|endoftext|> <|endoftext|> <|endoftext|> <|endoftext|> <|endoftext|> <|endoftext|> <|endoftext|> <|endoftext|> <|endoftext|> <|endoftext|>\n",
            "╒═══════════════╤═════════════╤══════════════════╕\n",
            "│ Tokens        │   Token IDs │   Attention Mask │\n",
            "╞═══════════════╪═════════════╪══════════════════╡\n",
            "│ Ġ             │         383 │                1 │\n",
            "├───────────────┼─────────────┼──────────────────┤\n",
            "│ ĠThe          │        3084 │                1 │\n",
            "├───────────────┼─────────────┼──────────────────┤\n",
            "│ Ġtable        │         338 │                1 │\n",
            "├───────────────┼─────────────┼──────────────────┤\n",
            "│ 's            │       12030 │                1 │\n",
            "├───────────────┼─────────────┼──────────────────┤\n",
            "│ Ġoccupied     │          11 │                1 │\n",
            "├───────────────┼─────────────┼──────────────────┤\n",
            "│ ,             │         314 │                1 │\n",
            "├───────────────┼─────────────┼──────────────────┤\n",
            "│ ĠI            │        1101 │                1 │\n",
            "├───────────────┼─────────────┼──────────────────┤\n",
            "│ 'm            │        4953 │                1 │\n",
            "├───────────────┼─────────────┼──────────────────┤\n",
            "│ Ġwaiting      │         416 │                1 │\n",
            "├───────────────┼─────────────┼──────────────────┤\n",
            "│ Ġby           │         262 │                1 │\n",
            "├───────────────┼─────────────┼──────────────────┤\n",
            "│ Ġthe          │        5509 │                1 │\n",
            "├───────────────┼─────────────┼──────────────────┤\n",
            "│ Ġtree         │         198 │                1 │\n",
            "├───────────────┼─────────────┼──────────────────┤\n",
            "│ Ċ             │       50256 │                0 │\n",
            "├───────────────┼─────────────┼──────────────────┤\n",
            "│ <|endoftext|> │       50256 │                0 │\n",
            "├───────────────┼─────────────┼──────────────────┤\n",
            "│ <|endoftext|> │       50256 │                0 │\n",
            "├───────────────┼─────────────┼──────────────────┤\n",
            "│ <|endoftext|> │       50256 │                0 │\n",
            "├───────────────┼─────────────┼──────────────────┤\n",
            "│ <|endoftext|> │       50256 │                0 │\n",
            "├───────────────┼─────────────┼──────────────────┤\n",
            "│ <|endoftext|> │       50256 │                0 │\n",
            "├───────────────┼─────────────┼──────────────────┤\n",
            "│ <|endoftext|> │       50256 │                0 │\n",
            "├───────────────┼─────────────┼──────────────────┤\n",
            "│ <|endoftext|> │       50256 │                0 │\n",
            "├───────────────┼─────────────┼──────────────────┤\n",
            "│ <|endoftext|> │       50256 │                0 │\n",
            "├───────────────┼─────────────┼──────────────────┤\n",
            "│ <|endoftext|> │       50256 │                0 │\n",
            "├───────────────┼─────────────┼──────────────────┤\n",
            "│ <|endoftext|> │       50256 │                0 │\n",
            "├───────────────┼─────────────┼──────────────────┤\n",
            "│ <|endoftext|> │       50256 │                0 │\n",
            "├───────────────┼─────────────┼──────────────────┤\n",
            "│ <|endoftext|> │       50256 │                0 │\n",
            "├───────────────┼─────────────┼──────────────────┤\n",
            "│ <|endoftext|> │       50256 │                0 │\n",
            "├───────────────┼─────────────┼──────────────────┤\n",
            "│ <|endoftext|> │       50256 │                0 │\n",
            "├───────────────┼─────────────┼──────────────────┤\n",
            "│ <|endoftext|> │       50256 │                0 │\n",
            "├───────────────┼─────────────┼──────────────────┤\n",
            "│ <|endoftext|> │       50256 │                0 │\n",
            "├───────────────┼─────────────┼──────────────────┤\n",
            "│ <|endoftext|> │       50256 │                0 │\n",
            "├───────────────┼─────────────┼──────────────────┤\n",
            "│ <|endoftext|> │       50256 │                0 │\n",
            "├───────────────┼─────────────┼──────────────────┤\n",
            "│ <|endoftext|> │       50256 │                0 │\n",
            "╘═══════════════╧═════════════╧══════════════════╛\n"
          ]
        }
      ],
      "source": [
        "def print_rand_sentence_encoding():\n",
        "    '''Displays tokens, token IDs and attention mask of a random text sample'''\n",
        "    index = random.randint(0, len(text) - 1)\n",
        "    tokens = tokenizer.tokenize(tokenizer.decode(token_id[index]))\n",
        "    print(' '.join(tokens))  # This shows the tokenized text\n",
        "    token_ids = token_id[index].squeeze().tolist()  # Flatten and convert to list\n",
        "    attention = attention_masks[index].squeeze().tolist()  # Flatten and convert to list\n",
        "\n",
        "    # We can only display as many tokens as there are, which is controlled by the actual token length\n",
        "    # This is because `tokens` do not include padding and will mismatch the length of `token_ids` and `attention`\n",
        "    num_tokens = len(tokens)\n",
        "    token_ids = token_ids[:num_tokens]  # Trim to the number of tokens\n",
        "    attention = attention[:num_tokens]  # Trim to the number of tokens\n",
        "\n",
        "    # Now create the table with the trimmed lists\n",
        "    table = np.array(list(zip(tokens, token_ids, attention)))\n",
        "    print(tabulate(table, headers=['Tokens', 'Token IDs', 'Attention Mask'], tablefmt='fancy_grid'))\n",
        "\n",
        "print_rand_sentence_encoding()\n"
      ]
    },
    {
      "cell_type": "code",
      "execution_count": 15,
      "id": "e1c2c10b",
      "metadata": {
        "id": "e1c2c10b"
      },
      "outputs": [],
      "source": [
        "val_ratio = 0.2\n",
        "# Recommended batch size: 16, 32. See: https://arxiv.org/pdf/1810.04805.pdf\n",
        "batch_size = 16\n",
        "\n",
        "# Indices of the train and validation splits stratified by labels\n",
        "# Use train_test_split\n",
        "train_idx, val_idx = train_test_split(\n",
        "    np.arange(len(labels)),\n",
        "    test_size=val_ratio,\n",
        "    stratify=labels,\n",
        "    random_state=42\n",
        ")\n",
        "\n",
        "# Train and validation sets\n",
        "# Set to TensorDataset\n",
        "train_set = TensorDataset(token_id[train_idx], attention_masks[train_idx], labels[train_idx])\n",
        "\n",
        "val_set = TensorDataset(token_id[val_idx], attention_masks[val_idx], labels[val_idx])\n",
        "\n",
        "# Prepare DataLoader\n",
        "train_dataloader = DataLoader(train_set, batch_size=batch_size, shuffle=True)\n",
        "\n",
        "validation_dataloader = DataLoader(val_set, batch_size=batch_size)"
      ]
    },
    {
      "cell_type": "code",
      "execution_count": null,
      "id": "155cdefa",
      "metadata": {
        "id": "155cdefa"
      },
      "outputs": [],
      "source": []
    },
    {
      "cell_type": "markdown",
      "id": "40bcf8c4",
      "metadata": {
        "id": "40bcf8c4"
      },
      "source": [
        "### Load specific versions of the model"
      ]
    },
    {
      "cell_type": "code",
      "execution_count": 17,
      "id": "f85fc88e",
      "metadata": {
        "colab": {
          "base_uri": "https://localhost:8080/"
        },
        "id": "f85fc88e",
        "outputId": "883f35a3-a5bc-4811-e55d-a38ba5094a1d"
      },
      "outputs": [
        {
          "output_type": "stream",
          "name": "stderr",
          "text": [
            "Some weights of GPT2ForSequenceClassification were not initialized from the model checkpoint at gpt2 and are newly initialized: ['score.weight']\n",
            "You should probably TRAIN this model on a down-stream task to be able to use it for predictions and inference.\n"
          ]
        }
      ],
      "source": [
        "# Load the BertForSequenceClassification model\n",
        "# Do not ouput the attentions and all hidden states\n",
        "\n",
        "config = GPT2Config.from_pretrained('gpt2', output_attentions=False, output_hidden_states=False)\n",
        "\n",
        "\n",
        "# Set to 'gpt2' (the smallest GPT2 which is 120 M parameters)\n",
        "# Use the config above and set other labels as needed\n",
        "model = GPT2ForSequenceClassification.from_pretrained('gpt2', config=config)\n",
        "\n",
        "# Set the pad token id to the eos token id\n",
        "model.config.pad_token_id = model.config.eos_token_id\n",
        "\n",
        "# Recommended learning rates (Adam): 5e-5, 3e-5, 2e-5\n",
        "# See: https://arxiv.org/pdf/1810.04805.pdf\n",
        "optimizer = torch.optim.AdamW(\n",
        "    model.parameters(),\n",
        "    lr = 5e-5,\n",
        "    eps = 1e-08\n",
        ")"
      ]
    },
    {
      "cell_type": "markdown",
      "id": "a36b60bf",
      "metadata": {
        "id": "a36b60bf"
      },
      "source": [
        "### Set the model to the right device"
      ]
    },
    {
      "cell_type": "code",
      "execution_count": 18,
      "id": "071b1a84",
      "metadata": {
        "id": "071b1a84"
      },
      "outputs": [],
      "source": [
        "# If on GPU, do as below\n",
        "device = torch.device(\"cuda\" if torch.cuda.is_available() else \"cpu\")"
      ]
    },
    {
      "cell_type": "code",
      "execution_count": 19,
      "id": "4811b9f5",
      "metadata": {
        "id": "4811b9f5"
      },
      "outputs": [],
      "source": [
        "model = model.to(device)\n",
        "\n",
        "# Recommended number of epochs: See: https://arxiv.org/pdf/1810.04805.pdf\n",
        "epochs = 2"
      ]
    },
    {
      "cell_type": "code",
      "execution_count": 21,
      "id": "f9f4e75e",
      "metadata": {
        "id": "f9f4e75e"
      },
      "outputs": [],
      "source": [
        "# Print all the layers of this GPT2 model and the number of parameters per layer\n",
        "# If this is False, fine tune just the classifier layer and leave all other GPT2 parameters alone\n",
        "# If this is True, fine tune everything\n",
        "fine_tune = True\n",
        "\n",
        "# Turn off gradients using the above\n",
        "model.requires_grad_(fine_tune) if fine_tune else model.score.weight.requires_grad_(True) and model.score.bias.requires_grad_(True)\n",
        "\n",
        "\n",
        "assert(total_parameters == 124441344)"
      ]
    },
    {
      "cell_type": "markdown",
      "id": "765fc3a1",
      "metadata": {
        "id": "765fc3a1"
      },
      "source": [
        "### Train the model"
      ]
    },
    {
      "cell_type": "code",
      "execution_count": 27,
      "id": "bf0b712e",
      "metadata": {
        "id": "bf0b712e"
      },
      "outputs": [],
      "source": [
        "from torchmetrics import Accuracy, Recall, Precision, AUROC\n",
        "\n",
        "# Assuming 'device' is defined (as earlier in your setup), move each metric to the same device as your model\n",
        "accuracy = Accuracy(num_classes=2, average='macro', task='binary').to(device)\n",
        "recall = Recall(num_classes=2, average='macro', task='binary').to(device)\n",
        "precision = Precision(num_classes=2, average='macro', task='binary').to(device)\n",
        "auroc = AUROC(num_classes=2, task='binary').to(device)\n"
      ]
    },
    {
      "cell_type": "code",
      "execution_count": 28,
      "id": "084519f5",
      "metadata": {
        "colab": {
          "base_uri": "https://localhost:8080/"
        },
        "id": "084519f5",
        "outputId": "9c94dc9b-90b5-4aa6-e7f1-42cc13e6617f"
      },
      "outputs": [
        {
          "output_type": "stream",
          "name": "stderr",
          "text": [
            "\rEpoch:   0%|          | 0/2 [00:00<?, ?it/s]/usr/local/lib/python3.10/dist-packages/torchmetrics/utilities/prints.py:43: UserWarning: No positive samples in targets, true positive value should be meaningless. Returning zero tensor in true positive score\n",
            "  warnings.warn(*args, **kwargs)  # noqa: B028\n",
            "Epoch:  50%|█████     | 1/2 [00:40<00:40, 40.06s/it]"
          ]
        },
        {
          "output_type": "stream",
          "name": "stdout",
          "text": [
            "\n",
            "\t - Train loss: 0.0170\n",
            "\t - Validation Accuracy: 0.9884\n",
            "\t - Validation Precision: 0.8476\n",
            "\t - Validation Recall: 0.8190\n",
            "\t - Validation AUROC: 0.8656\n",
            "\n"
          ]
        },
        {
          "output_type": "stream",
          "name": "stderr",
          "text": [
            "Epoch: 100%|██████████| 2/2 [01:18<00:00, 39.06s/it]"
          ]
        },
        {
          "output_type": "stream",
          "name": "stdout",
          "text": [
            "\n",
            "\t - Train loss: 0.0105\n",
            "\t - Validation Accuracy: 0.9866\n",
            "\t - Validation Precision: 0.8571\n",
            "\t - Validation Recall: 0.7971\n",
            "\t - Validation AUROC: 0.8557\n",
            "\n"
          ]
        },
        {
          "output_type": "stream",
          "name": "stderr",
          "text": [
            "\n"
          ]
        }
      ],
      "source": [
        "# Main training / validation loop\n",
        "for _ in trange(epochs, desc = 'Epoch'):\n",
        "\n",
        "    # ========== Training ==========\n",
        "\n",
        "    # Set model to training mode\n",
        "    model.train()\n",
        "\n",
        "    # Tracking variables\n",
        "    tr_loss = 0\n",
        "    nb_tr_examples, nb_tr_steps = 0, 0\n",
        "\n",
        "    for step, batch in enumerate(train_dataloader):\n",
        "        # Put each element of batch onto the device\n",
        "        batch = tuple(t.to(device) for t in batch)\n",
        "\n",
        "        # Unpack the batch\n",
        "        input_ids, attention_mask, labels = batch[0], batch[1], batch[2]\n",
        "\n",
        "        # Set gradients to zero\n",
        "        optimizer.zero_grad()\n",
        "\n",
        "        # Forward pass\n",
        "        train_output = model(input_ids, attention_mask=attention_mask, labels=labels)\n",
        "\n",
        "        # Backward pass\n",
        "        train_output.loss.backward()\n",
        "        optimizer.step()\n",
        "\n",
        "        # Update tracking variables\n",
        "        tr_loss += train_output.loss.item()\n",
        "        nb_tr_examples += input_ids.size(0)\n",
        "        nb_tr_steps += 1\n",
        "\n",
        "    # ========== Validation ==========\n",
        "\n",
        "    # Set model to evaluation mode\n",
        "    model.eval()\n",
        "\n",
        "    # Tracking variables\n",
        "    val_accuracy = []\n",
        "    val_precision = []\n",
        "    val_recall = []\n",
        "    val_auroc = []\n",
        "\n",
        "    for batch in validation_dataloader:\n",
        "        batch = tuple(t.to(device) for t in batch)\n",
        "\n",
        "        # Unpack the batch\n",
        "        input_ids, attention_mask, labels = batch[0], batch[1], batch[2]\n",
        "\n",
        "        with torch.no_grad():\n",
        "          # Forward pass\n",
        "            eval_output = model(input_ids, attention_mask=attention_mask)\n",
        "\n",
        "        # Calculate validation metrics\n",
        "        labels = labels\n",
        "        preds = torch.argmax(eval_output.logits, dim=-1)\n",
        "\n",
        "        val_accuracy.append(accuracy(preds, labels).item())\n",
        "        val_recall.append(recall(preds, labels).item())\n",
        "        val_precision.append(precision(preds, labels).item())\n",
        "        val_auroc.append(auroc(preds, labels.float()).item())  # Ensure labels are appropriate for AUROC calculation\n",
        "\n",
        "\n",
        "    print('\\n\\t - Train loss: {:.4f}'.format(tr_loss / nb_tr_steps))\n",
        "    print('\\t - Validation Accuracy: {:.4f}'.format(sum(val_accuracy)/len(val_accuracy)))\n",
        "    print('\\t - Validation Precision: {:.4f}'.format(sum(val_precision)/len(val_precision)))\n",
        "    print('\\t - Validation Recall: {:.4f}'.format(sum(val_recall)/len(val_recall)))\n",
        "    print('\\t - Validation AUROC: {:.4f}\\n'.format(sum(val_auroc)/len(val_auroc)))"
      ]
    },
    {
      "cell_type": "markdown",
      "id": "13d64bc6",
      "metadata": {
        "id": "13d64bc6"
      },
      "source": [
        "### Test on a specific sentence, see the outcome"
      ]
    },
    {
      "cell_type": "code",
      "execution_count": 29,
      "id": "6dfcd9e7",
      "metadata": {
        "id": "6dfcd9e7",
        "colab": {
          "base_uri": "https://localhost:8080/"
        },
        "outputId": "cd87e9ed-1988-43c2-a054-a4e6014590ba"
      },
      "outputs": [
        {
          "output_type": "stream",
          "name": "stdout",
          "text": [
            "Input Sentence:  WINNER!! As a valued network customer you have been selected to receivea £900 prize reward! To claim call 09061701461. Claim code KL341. Valid 12 hours only.\n",
            "Predicted Class:  Spam\n"
          ]
        }
      ],
      "source": [
        "new_sentence = 'WINNER!! As a valued network customer you have been selected to receivea £900 prize reward! To claim call 09061701461. Claim code KL341. Valid 12 hours only.'\n",
        "\n",
        "# We need Token IDs and Attention Mask for inference on the new sentence\n",
        "test_ids = []\n",
        "test_attention_mask = []\n",
        "\n",
        "# Apply the tokenizer\n",
        "encoding = preprocessing(new_sentence, tokenizer)\n",
        "\n",
        "# Extract IDs and Attention Mask\n",
        "test_ids.append(encoding['input_ids'])\n",
        "test_attention_mask.append(encoding['attention_mask'])\n",
        "test_ids = torch.cat(test_ids, dim = 0)\n",
        "test_attention_mask = torch.cat(test_attention_mask, dim = 0)\n",
        "\n",
        "# Forward pass, calculate logit predictions\n",
        "with torch.no_grad():\n",
        "    output = model(test_ids.to(device), token_type_ids = None, attention_mask = test_attention_mask.to(device))\n",
        "\n",
        "prediction = 'Spam' if np.argmax(output.logits.cpu().numpy()).flatten().item() == 1 else 'Ham'\n",
        "\n",
        "print('Input Sentence: ', new_sentence)\n",
        "print('Predicted Class: ', prediction)"
      ]
    },
    {
      "cell_type": "markdown",
      "source": [],
      "metadata": {
        "id": "_BwgR1LLHrCH"
      },
      "id": "_BwgR1LLHrCH"
    },
    {
      "cell_type": "markdown",
      "id": "a0c41741",
      "metadata": {
        "id": "a0c41741"
      },
      "source": [
        "### Questions"
      ]
    },
    {
      "cell_type": "markdown",
      "id": "875fab6d",
      "metadata": {
        "id": "875fab6d"
      },
      "source": [
        "Question 1: Run the above by fine tuning GPT2 and the classfier head and by not doing this (using GPT2 as a feature encoder). What is the gap between this? What are the metrics we get in each case?"
      ]
    },
    {
      "cell_type": "markdown",
      "id": "ae772301",
      "metadata": {
        "id": "ae772301"
      },
      "source": [
        "Solution: FILL Paste your output here\n",
        "\n",
        "Epoch 2/2\n",
        "Train Loss: 0.0013737583067268133\n",
        "Train Accuracy: 0.9942917823791504, Train Recall: 0.9689592123031616, Train Precision: 0.9882060885429382, Train AUROC: 0.9835850596427917\n",
        "Validation Accuracy: 0.9919642857142857, Validation Recall: 0.8547619053295681, Validation Precision: 0.8833333330495017, Validation AUROC: 0.8838744597775595\n"
      ]
    },
    {
      "cell_type": "code",
      "source": [
        "import torch\n",
        "from torch.utils.data import DataLoader\n",
        "from transformers import GPT2ForSequenceClassification, GPT2Config, GPT2Tokenizer\n",
        "from torchmetrics import Accuracy, Recall, Precision, AUROC\n",
        "from transformers import AdamW\n",
        "from tqdm import tqdm\n",
        "import numpy as np\n",
        "\n",
        "def train_and_evaluate(fine_tune, train_dataloader, validation_dataloader, device, epochs=2):\n",
        "    # Initialize tokenizer and model configuration with pad token\n",
        "    tokenizer = GPT2Tokenizer.from_pretrained('gpt2')\n",
        "    pad_token_id = tokenizer.eos_token_id  # EOS token is commonly used as pad token.\n",
        "\n",
        "    config = GPT2Config.from_pretrained('gpt2', pad_token_id=pad_token_id, output_attentions=False, output_hidden_states=False)\n",
        "    model = GPT2ForSequenceClassification.from_pretrained('gpt2', config=config).to(device)\n",
        "\n",
        "    if not fine_tune:\n",
        "        for param in model.parameters():\n",
        "            param.requires_grad = False\n",
        "        model.score.weight.requires_grad = True\n",
        "        model.score.bias.requires_grad = True\n",
        "\n",
        "    optimizer = AdamW(filter(lambda p: p.requires_grad, model.parameters()), lr=5e-5)\n",
        "\n",
        "    # Metrics\n",
        "    accuracy = Accuracy(num_classes=2, average='macro', task='binary').to(device)\n",
        "    recall = Recall(num_classes=2, average='macro', task='binary').to(device)\n",
        "    precision = Precision(num_classes=2, average='macro', task='binary').to(device)\n",
        "    auroc = AUROC(num_classes=2, task='binary').to(device)\n",
        "\n",
        ""
      ],
      "metadata": {
        "id": "XWXc7HxGGP_j"
      },
      "id": "XWXc7HxGGP_j",
      "execution_count": 34,
      "outputs": []
    },
    {
      "cell_type": "code",
      "source": [
        "   # Training loop\n",
        "for epoch in range(epochs):\n",
        "        model.train()\n",
        "        for batch in train_dataloader:\n",
        "            batch = tuple(t.to(device) for t in batch)\n",
        "            inputs = {'input_ids': batch[0],\n",
        "                      'attention_mask': batch[1],\n",
        "                      'labels': batch[2]}\n",
        "\n",
        "            optimizer.zero_grad()\n",
        "            outputs = model(**inputs)\n",
        "            loss = outputs.loss\n",
        "            loss.backward()\n",
        "            optimizer.step()\n",
        "\n",
        "            preds = torch.argmax(outputs.logits, dim=-1)\n",
        "            accuracy.update(preds, inputs['labels'])\n",
        "            recall.update(preds, inputs['labels'])\n",
        "            precision.update(preds, inputs['labels'])\n",
        "            auroc.update(preds, inputs['labels'].float())\n",
        "\n",
        ""
      ],
      "metadata": {
        "id": "3Y3a7FljGuqI"
      },
      "id": "3Y3a7FljGuqI",
      "execution_count": 37,
      "outputs": []
    },
    {
      "cell_type": "code",
      "source": [
        "# Validation loop\n",
        "model.eval()\n",
        "val_accuracy, val_recall, val_precision, val_auroc = [], [], [], []\n",
        "for batch in validation_dataloader:\n",
        "            batch = tuple(t.to(device) for t in batch)\n",
        "            inputs = {'input_ids': batch[0],\n",
        "                      'attention_mask': batch[1],\n",
        "                      'labels': batch[2]}\n",
        "\n",
        "            with torch.no_grad():\n",
        "                outputs = model(**inputs)\n",
        "                preds = torch.argmax(outputs.logits, dim=-1)\n",
        "                val_accuracy.append(accuracy(preds, inputs['labels']).item())\n",
        "                val_recall.append(recall(preds, inputs['labels']).item())\n",
        "                val_precision.append(precision(preds, inputs['labels']).item())\n",
        "                val_auroc.append(auroc(preds, inputs['labels'].float()).item())\n",
        "\n",
        ""
      ],
      "metadata": {
        "id": "MMmK_b1tHdSH"
      },
      "id": "MMmK_b1tHdSH",
      "execution_count": 41,
      "outputs": []
    },
    {
      "cell_type": "code",
      "source": [
        "# Calculate final metrics for this epoch\n",
        "train_acc, train_recall, train_precision, train_auroc = accuracy.compute(), recall.compute(), precision.compute(), auroc.compute()\n",
        "accuracy.reset(), recall.reset(), precision.reset(), auroc.reset()\n",
        "print(f'Epoch {epoch+1}/{epochs}')\n",
        "print(f'Train Loss: {loss.item()}')\n",
        "print(f'Train Accuracy: {train_acc}, Train Recall: {train_recall}, Train Precision: {train_precision}, Train AUROC: {train_auroc}')\n",
        "print(f'Validation Accuracy: {np.mean(val_accuracy)}, Validation Recall: {np.mean(val_recall)}, Validation Precision: {np.mean(val_precision)}, Validation AUROC: {np.mean(val_auroc)}')\n",
        "\n"
      ],
      "metadata": {
        "colab": {
          "base_uri": "https://localhost:8080/"
        },
        "id": "UKjeZQWvHlFA",
        "outputId": "13c3c094-02e9-42a6-c785-c29c506ba206"
      },
      "id": "UKjeZQWvHlFA",
      "execution_count": 44,
      "outputs": [
        {
          "output_type": "stream",
          "name": "stdout",
          "text": [
            "Epoch 2/2\n",
            "Train Loss: 0.0013737583067268133\n",
            "Train Accuracy: 0.9942917823791504, Train Recall: 0.9689592123031616, Train Precision: 0.9882060885429382, Train AUROC: 0.9835850596427917\n",
            "Validation Accuracy: 0.9919642857142857, Validation Recall: 0.8547619053295681, Validation Precision: 0.8833333330495017, Validation AUROC: 0.8838744597775595\n"
          ]
        }
      ]
    },
    {
      "cell_type": "code",
      "source": [],
      "metadata": {
        "id": "Cm-upZCDIAyA"
      },
      "id": "Cm-upZCDIAyA",
      "execution_count": null,
      "outputs": []
    }
  ],
  "metadata": {
    "kernelspec": {
      "display_name": "Python 3",
      "name": "python3"
    },
    "language_info": {
      "codemirror_mode": {
        "name": "ipython",
        "version": 3
      },
      "file_extension": ".py",
      "mimetype": "text/x-python",
      "name": "python",
      "nbconvert_exporter": "python",
      "pygments_lexer": "ipython3",
      "version": "3.8.15"
    },
    "colab": {
      "provenance": [],
      "gpuType": "T4"
    },
    "accelerator": "GPU"
  },
  "nbformat": 4,
  "nbformat_minor": 5
}